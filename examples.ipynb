{
 "cells": [
  {
   "cell_type": "code",
   "execution_count": 1,
   "id": "e33977ed-38bd-4a3c-b409-b1c867d97cbd",
   "metadata": {},
   "outputs": [],
   "source": [
    "import mamba_error_reporting as mer\n",
    "\n",
    "\n",
    "def solve_with_error(pb_factory):\n",
    "    solver, pool = pb_factory()\n",
    "    success = solver.try_solve()\n",
    "    if success:\n",
    "        raise RuntimeError(f\"{pb_factory.__name__} was solved successfully\")\n",
    "    pb_data = mer.algorithm.ProblemData.from_libsolv(solver, pool)\n",
    "    cp_data = mer.algorithm.compress_graph(pb_data)\n",
    "    return solver, pb_data, cp_data\n",
    "\n",
    "\n",
    "def print_graphs(pb_data, cp_data):\n",
    "    print(\"{:=^120}\".format(\" Original graph \"))\n",
    "    mer.plot.plot_solvable_dag(pb_data)\n",
    "    print(\"{:=^120}\".format(\" Compressed graph \"))\n",
    "    mer.plot.plot_group_dag(pb_data, cp_data)\n",
    "\n",
    "\n",
    "def print_messages(solver, pb_data, cp_data):\n",
    "    print(\"{:=^120}\".format(\" Old error message \"))\n",
    "    print(mer.messaging.old_error_report(solver))\n",
    "    print(\"{:=^120}\".format(\" New error message \"))\n",
    "    print(mer.algorithm.explain_graph(pb_data, cp_data))\n",
    "\n",
    "\n",
    "def detail_problem(pb_factory):\n",
    "    solver, pb_data, cp_data = solve_with_error(pb_factory)\n",
    "#     print_graphs(pb_data, cp_data)\n",
    "    print_messages(solver, pb_data, cp_data)"
   ]
  },
  {
   "cell_type": "markdown",
   "id": "107babae-2e93-45ad-bf70-17b760c3659c",
   "metadata": {},
   "source": [
    "# Basic Conflict"
   ]
  },
  {
   "cell_type": "code",
   "execution_count": 2,
   "id": "15c82934-8101-42bb-a4d1-c7abd9926d8a",
   "metadata": {},
   "outputs": [
    {
     "name": "stdout",
     "output_type": "stream",
     "text": [
      "================================================== Old error message ===================================================\n",
      "Mamba failed to solve. The reported errors are:\n",
      "   Encountered problems while solving:\n",
      "     - nothing provides requested a 0.4.0**\n",
      "   \n",
      "================================================== New error message ===================================================\n",
      "Error: The environment could not be satisfied because it requires the missing package \u001b[31m\u001b[01ma 0.4.0**\u001b[0m.\n"
     ]
    }
   ],
   "source": [
    "detail_problem(mer.problems.create_basic_conflict)"
   ]
  },
  {
   "cell_type": "markdown",
   "id": "df80697f-a0fd-471c-a329-75b39bb00fb0",
   "metadata": {},
   "source": [
    "# PubGrub"
   ]
  },
  {
   "cell_type": "code",
   "execution_count": 3,
   "id": "990acad5-c0dd-4615-a4bf-dc3181725b0d",
   "metadata": {},
   "outputs": [
    {
     "name": "stdout",
     "output_type": "stream",
     "text": [
      "================================================== Old error message ===================================================\n",
      "Mamba failed to solve. The reported errors are:\n",
      "   Encountered problems while solving:\n",
      "     - package menu-1.0.0 requires dropdown 1.**, but none of the providers can be installed\n",
      "   \n",
      "================================================== New error message ===================================================\n",
      "Error: Could not find any compatible versions for requested packages \u001b[31m\u001b[01micons 1.*\u001b[0m, \u001b[31m\u001b[01mintl 5.*\u001b[0m, \u001b[31m\u001b[01mmenu \u001b[0m.\n",
      "\n",
      "The following packages conflict with one another\n",
      "├─ \u001b[32m\u001b[01mmenu\u001b[0m is installable with the potential options\n",
      "│  ├─ \u001b[32m\u001b[01m\u001b[32m\u001b[01mmenu 1.0.0\u001b[0m\u001b[0m, which requires\n",
      "│  │  └─ \u001b[32m\u001b[01m\u001b[32m\u001b[01mdropdown 1.**\u001b[0m\u001b[0m, which requires\n",
      "│  │     └─ \u001b[32m\u001b[01m\u001b[32m\u001b[01m\u001b[32m\u001b[01mintl 3.**\u001b[0m\u001b[0m\u001b[0m, which can be installed;\n",
      "│  └─ \u001b[32m\u001b[01m\u001b[32m\u001b[01mmenu [1.1.0|1.2.0|...|1.5.0]\u001b[0m\u001b[0m, which requires\n",
      "│     └─ \u001b[32m\u001b[01m\u001b[32m\u001b[01mdropdown 2.**\u001b[0m\u001b[0m, which requires\n",
      "│        └─ \u001b[32m\u001b[01m\u001b[32m\u001b[01m\u001b[32m\u001b[01micons 2.**\u001b[0m\u001b[0m\u001b[0m, which can be installed;\n",
      "├─ \u001b[31m\u001b[01m\u001b[31m\u001b[01mintl 5.*\u001b[0m\u001b[0m is uninstallable because it conflicts with any installable versions of \u001b[31m\u001b[01mintl\u001b[0m;\n",
      "└─ \u001b[31m\u001b[01m\u001b[31m\u001b[01micons 1.*\u001b[0m\u001b[0m is uninstallable because it conflicts with any installable versions of \u001b[31m\u001b[01micons\u001b[0m.\n"
     ]
    }
   ],
   "source": [
    "detail_problem(mer.problems.create_pubgrub)"
   ]
  },
  {
   "cell_type": "markdown",
   "id": "e4fc32e8-ea6c-4cd9-8d6d-152e86178dd6",
   "metadata": {},
   "source": [
    "# PubGrub Hard"
   ]
  },
  {
   "cell_type": "code",
   "execution_count": 4,
   "id": "990bbb89-1d3e-4c41-9e51-9e0797118388",
   "metadata": {},
   "outputs": [
    {
     "name": "stdout",
     "output_type": "stream",
     "text": [
      "================================================== Old error message ===================================================\n",
      "Mamba failed to solve. The reported errors are:\n",
      "   Encountered problems while solving:\n",
      "     - package menu-1.2.0 requires dropdown 2.**, but none of the providers can be installed\n",
      "   \n",
      "================================================== New error message ===================================================\n",
      "Error: Could not find any compatible versions for requested packages \u001b[31m\u001b[01mpyicons 1.*\u001b[0m, \u001b[31m\u001b[01mintl 5.*\u001b[0m, \u001b[31m\u001b[01mmenu \u001b[0m.\n",
      "\n",
      "The following packages conflict with one another\n",
      "├─ \u001b[32m\u001b[01mpyicons 1.*\u001b[0m is installable with the potential options\n",
      "│  ├─ \u001b[32m\u001b[01m\u001b[32m\u001b[01mpyicons 1.0.0\u001b[0m\u001b[0m, which requires\n",
      "│  │  └─ \u001b[32m\u001b[01m\u001b[32m\u001b[01m\u001b[32m\u001b[01mlibicons 1.**\u001b[0m\u001b[0m\u001b[0m, which can be installed;\n",
      "│  └─ \u001b[32m\u001b[01m\u001b[32m\u001b[01mpyicons 1.1.0\u001b[0m\u001b[0m, which requires\n",
      "│     └─ \u001b[32m\u001b[01m\u001b[32m\u001b[01m\u001b[32m\u001b[01mlibicons 1.2.**\u001b[0m\u001b[0m\u001b[0m, which can be installed;\n",
      "├─ \u001b[32m\u001b[01mmenu\u001b[0m is installable with the potential options\n",
      "│  ├─ \u001b[32m\u001b[01m\u001b[32m\u001b[01mmenu [1.0.0|1.1.0]\u001b[0m\u001b[0m, which requires\n",
      "│  │  └─ \u001b[32m\u001b[01m\u001b[32m\u001b[01mdropdown 1.**\u001b[0m\u001b[0m, which requires\n",
      "│  │     └─ \u001b[32m\u001b[01m\u001b[32m\u001b[01m\u001b[32m\u001b[01mintl 3.**\u001b[0m\u001b[0m\u001b[0m, which can be installed;\n",
      "│  └─ \u001b[31m\u001b[01m\u001b[31m\u001b[01mmenu [1.2.0|1.3.0|...|2.1.0]\u001b[0m\u001b[0m, which requires\n",
      "│     ├─ \u001b[31m\u001b[01m\u001b[31m\u001b[01mdropdown [2.**|>=2|>=2.1]\u001b[0m\u001b[0m, which requires\n",
      "│     │  └─ \u001b[31m\u001b[01m\u001b[31m\u001b[01mlibicons 2.**\u001b[0m\u001b[0m, which conflicts with any installable versions of \u001b[31m\u001b[01mlibicons\u001b[0m;\n",
      "│     └─ \u001b[31m\u001b[01m\u001b[31m\u001b[01mdropdown [2.**|>=2]\u001b[0m\u001b[0m, which requires\n",
      "│        └─ \u001b[31m\u001b[01m\u001b[31m\u001b[01mlibicons 2.**\u001b[0m\u001b[0m, which conflicts with any installable versions of \u001b[31m\u001b[01mlibicons\u001b[0m;\n",
      "└─ \u001b[31m\u001b[01m\u001b[31m\u001b[01mintl 5.*\u001b[0m\u001b[0m is uninstallable because it conflicts with any installable versions of \u001b[31m\u001b[01mintl\u001b[0m.\n"
     ]
    }
   ],
   "source": [
    "detail_problem(mer.problems.create_pubgrub_hard)"
   ]
  },
  {
   "cell_type": "markdown",
   "id": "ab066658-a972-4cb0-a90e-ede5983305ff",
   "metadata": {},
   "source": [
    "# PubGrub Missing"
   ]
  },
  {
   "cell_type": "code",
   "execution_count": 5,
   "id": "6d220808-8ad0-4963-a089-f92ac71eee29",
   "metadata": {},
   "outputs": [
    {
     "name": "stdout",
     "output_type": "stream",
     "text": [
      "================================================== Old error message ===================================================\n",
      "Mamba failed to solve. The reported errors are:\n",
      "   Encountered problems while solving:\n",
      "     - nothing provides libnothere >1.0 needed by dropdown-2.9.3\n",
      "   \n",
      "================================================== New error message ===================================================\n",
      "Error: Could not find any compatible versions for requested packages \u001b[31m\u001b[01mpyicons 1.*\u001b[0m, \u001b[31m\u001b[01mintl 5.*\u001b[0m, \u001b[31m\u001b[01mmenu \u001b[0m.\n",
      "\n",
      "The following packages conflict with one another\n",
      "├─ \u001b[32m\u001b[01mpyicons 1.*\u001b[0m is installable with the potential options\n",
      "│  ├─ \u001b[32m\u001b[01m\u001b[32m\u001b[01mpyicons 1.0.0\u001b[0m\u001b[0m, which requires\n",
      "│  │  └─ \u001b[32m\u001b[01m\u001b[32m\u001b[01m\u001b[32m\u001b[01mlibicons 1.**\u001b[0m\u001b[0m\u001b[0m, which can be installed;\n",
      "│  └─ \u001b[32m\u001b[01m\u001b[32m\u001b[01mpyicons 1.1.0\u001b[0m\u001b[0m, which requires\n",
      "│     └─ \u001b[32m\u001b[01m\u001b[32m\u001b[01m\u001b[32m\u001b[01mlibicons 1.2.**\u001b[0m\u001b[0m\u001b[0m, which can be installed;\n",
      "├─ \u001b[32m\u001b[01mmenu\u001b[0m is installable with the potential options\n",
      "│  ├─ \u001b[32m\u001b[01m\u001b[32m\u001b[01mmenu [1.0.0|1.1.0]\u001b[0m\u001b[0m, which requires\n",
      "│  │  └─ \u001b[32m\u001b[01m\u001b[32m\u001b[01mdropdown 1.**\u001b[0m\u001b[0m, which requires\n",
      "│  │     └─ \u001b[32m\u001b[01m\u001b[32m\u001b[01m\u001b[32m\u001b[01mintl 3.**\u001b[0m\u001b[0m\u001b[0m, which can be installed;\n",
      "│  └─ \u001b[31m\u001b[01m\u001b[31m\u001b[01mmenu [1.2.0|1.3.0|...|2.1.0]\u001b[0m\u001b[0m, which requires\n",
      "│     ├─ \u001b[31m\u001b[01mdropdown [2.**|>=2|>=2.1]\u001b[0m with no viable options\n",
      "│     │  ├─ \u001b[31m\u001b[01m\u001b[31m\u001b[01mdropdown [2.1.0|2.2.0|2.3.0]\u001b[0m\u001b[0m, which requires\n",
      "│     │  │  └─ \u001b[31m\u001b[01m\u001b[31m\u001b[01mlibicons 2.**\u001b[0m\u001b[0m, which conflicts with any installable versions of \u001b[31m\u001b[01mlibicons\u001b[0m;\n",
      "│     │  ├─ \u001b[31m\u001b[01m\u001b[31m\u001b[01mdropdown [2.9.0|2.9.1|2.9.2]\u001b[0m\u001b[0m, which requires the missing package \u001b[31m\u001b[01mlibicons >10.0\u001b[0m;\n",
      "│     │  └─ \u001b[31m\u001b[01m\u001b[31m\u001b[01mdropdown 2.9.3\u001b[0m\u001b[0m, which requires the missing package \u001b[31m\u001b[01mlibnothere >1.0\u001b[0m;\n",
      "│     └─ \u001b[31m\u001b[01m\u001b[31m\u001b[01mdropdown [2.**|>=2]\u001b[0m\u001b[0m, which requires\n",
      "│        └─ \u001b[31m\u001b[01m\u001b[31m\u001b[01mlibicons 2.**\u001b[0m\u001b[0m, which conflicts with any installable versions of \u001b[31m\u001b[01mlibicons\u001b[0m;\n",
      "└─ \u001b[31m\u001b[01m\u001b[31m\u001b[01mintl 5.*\u001b[0m\u001b[0m is uninstallable because it conflicts with any installable versions of \u001b[31m\u001b[01mintl\u001b[0m.\n"
     ]
    }
   ],
   "source": [
    "detail_problem(mer.problems.create_pubgrub_missing)"
   ]
  },
  {
   "cell_type": "markdown",
   "id": "597e4a17-c7f1-4bad-94c1-d08711b5215b",
   "metadata": {},
   "source": [
    "# R Base"
   ]
  },
  {
   "cell_type": "code",
   "execution_count": 6,
   "id": "b81ad237-8677-499b-ac26-745fbdd22b33",
   "metadata": {},
   "outputs": [
    {
     "name": "stdout",
     "output_type": "stream",
     "text": [
      "================================================== Old error message ===================================================\n",
      "Mamba failed to solve. The reported errors are:\n",
      "   Encountered problems while solving:\n",
      "     - package r-matchit-4.3.3-r40h03ef668_0 requires r-base >=4.0,<4.1.0a0, but none of the providers can be installed\n",
      "   \n",
      "================================================== New error message ===================================================\n",
      "Error: Could not find any compatible versions for requested packages \u001b[31m\u001b[01mr-matchit 4.*\u001b[0m, \u001b[31m\u001b[01mr-base 3.5.*\u001b[0m.\n",
      "\n",
      "The following packages conflict with one another\n",
      "├─ \u001b[32m\u001b[01mr-matchit 4.*\u001b[0m is installable with the potential options\n",
      "│  ├─ \u001b[32m\u001b[01m\u001b[32m\u001b[01mr-matchit [4.3.3|4.3.4|4.4.0]\u001b[0m\u001b[0m, which requires\n",
      "│  │  └─ \u001b[32m\u001b[01m\u001b[32m\u001b[01m\u001b[32m\u001b[01mr-base >=4.0,<4.1.0a0\u001b[0m\u001b[0m\u001b[0m, which can be installed;\n",
      "│  ├─ \u001b[32m\u001b[01m\u001b[32m\u001b[01mr-matchit [4.3.3|4.3.4|4.4.0]\u001b[0m\u001b[0m, which requires\n",
      "│  │  └─ \u001b[32m\u001b[01m\u001b[32m\u001b[01m\u001b[32m\u001b[01mr-base >=4.1,<4.2.0a0\u001b[0m\u001b[0m\u001b[0m, which can be installed;\n",
      "│  └─ \u001b[32m\u001b[01m\u001b[32m\u001b[01mr-matchit 4.4.0\u001b[0m\u001b[0m, which requires\n",
      "│     └─ \u001b[32m\u001b[01m\u001b[32m\u001b[01m\u001b[32m\u001b[01mr-base >=4.2,<4.3.0a0\u001b[0m\u001b[0m\u001b[0m, which can be installed;\n",
      "└─ \u001b[31m\u001b[01m\u001b[31m\u001b[01mr-base 3.5.*\u001b[0m\u001b[0m is uninstallable because it conflicts with any installable versions of \u001b[31m\u001b[01mr-base\u001b[0m.\n"
     ]
    }
   ],
   "source": [
    "detail_problem(mer.problems.create_r_base)"
   ]
  },
  {
   "cell_type": "markdown",
   "id": "7266ebdc-5bca-4871-a41c-ba8e1f85f0f0",
   "metadata": {},
   "source": [
    "# Pytorch CPU"
   ]
  },
  {
   "cell_type": "code",
   "execution_count": 7,
   "id": "b5822a65-7391-4907-be29-a2873afa2e9f",
   "metadata": {},
   "outputs": [
    {
     "name": "stdout",
     "output_type": "stream",
     "text": [
      "conda-forge/linux-64                                        Using cache\n",
      "conda-forge/noarch                                          Using cache\n",
      "================================================== Old error message ===================================================\n",
      "Mamba failed to solve. The reported errors are:\n",
      "   Encountered problems while solving:\n",
      "     - nothing provides __cuda needed by pytorch-1.11.0-cuda102py310hdf4a2db_202\n",
      "   \n",
      "================================================== New error message ===================================================\n",
      "Error: Could not find any compatible versions for requested packages \u001b[31m\u001b[01mpytorch \u001b[0m, \u001b[31m\u001b[01mpython 2.7**\u001b[0m.\n",
      "\n",
      "The following packages conflict with one another\n",
      "├─ \u001b[32m\u001b[01mpytorch\u001b[0m is installable with the potential options\n",
      "│  ├─ \u001b[32m\u001b[01m\u001b[32m\u001b[01mpytorch [1.6.0|1.7.1|...|1.9.1]\u001b[0m\u001b[0m, which requires\n",
      "│  │  └─ \u001b[32m\u001b[01m\u001b[32m\u001b[01m\u001b[32m\u001b[01mpython_abi 3.6.* *_cp36m\u001b[0m\u001b[0m\u001b[0m, which can be installed;\n",
      "│  ├─ \u001b[32m\u001b[01m\u001b[32m\u001b[01mpytorch [1.6.0|1.7.1|...|1.12.1]\u001b[0m\u001b[0m, which requires\n",
      "│  │  └─ \u001b[32m\u001b[01m\u001b[32m\u001b[01m\u001b[32m\u001b[01mpython_abi 3.7.* *_cp37m\u001b[0m\u001b[0m\u001b[0m, which can be installed;\n",
      "│  ├─ \u001b[32m\u001b[01m\u001b[32m\u001b[01mpytorch [1.6.0|1.7.1|...|1.12.1]\u001b[0m\u001b[0m, which requires\n",
      "│  │  └─ \u001b[32m\u001b[01m\u001b[32m\u001b[01m\u001b[32m\u001b[01mpython_abi 3.8.* *_cp38\u001b[0m\u001b[0m\u001b[0m, which can be installed;\n",
      "│  ├─ \u001b[32m\u001b[01m\u001b[32m\u001b[01mpytorch [1.6.0|1.7.1|...|1.12.1]\u001b[0m\u001b[0m, which requires\n",
      "│  │  └─ \u001b[32m\u001b[01m\u001b[32m\u001b[01m\u001b[32m\u001b[01mpython_abi 3.9.* *_cp39\u001b[0m\u001b[0m\u001b[0m, which can be installed;\n",
      "│  ├─ \u001b[32m\u001b[01m\u001b[32m\u001b[01mpytorch [1.11.0|1.12.0|1.12.1]\u001b[0m\u001b[0m, which requires\n",
      "│  │  └─ \u001b[32m\u001b[01m\u001b[32m\u001b[01m\u001b[32m\u001b[01mpython_abi 3.10.* *_cp310\u001b[0m\u001b[0m\u001b[0m, which can be installed;\n",
      "│  └─ \u001b[31m\u001b[01m\u001b[31m\u001b[01mpytorch [1.11.0|1.12.0|1.12.1]\u001b[0m\u001b[0m, which requires the missing package \u001b[31m\u001b[01m__cuda\u001b[0m;\n",
      "└─ \u001b[31m\u001b[01m\u001b[31m\u001b[01mpython 2.7**\u001b[0m\u001b[0m is uninstallable because  it requires\n",
      "   └─ \u001b[31m\u001b[01m\u001b[31m\u001b[01mpython_abi [* *_cp27mu|2.7.* *_cp27mu]\u001b[0m\u001b[0m, which conflicts with any installable versions of \u001b[31m\u001b[01mpython_abi\u001b[0m.\n"
     ]
    }
   ],
   "source": [
    "detail_problem(mer.problems.create_pytorch_cpu)"
   ]
  },
  {
   "cell_type": "markdown",
   "id": "e15f93c4-e427-4809-91e1-ede7a2cb2533",
   "metadata": {},
   "source": [
    "# Pytorch Cuda"
   ]
  },
  {
   "cell_type": "code",
   "execution_count": 8,
   "id": "2169c861-599c-41a8-9522-467066fc2f14",
   "metadata": {},
   "outputs": [
    {
     "name": "stdout",
     "output_type": "stream",
     "text": [
      "conda-forge/linux-64                                        Using cache\n",
      "conda-forge/noarch                                          Using cache\n",
      "================================================== Old error message ===================================================\n",
      "Mamba failed to solve. The reported errors are:\n",
      "   Encountered problems while solving:\n",
      "     - package pytorch-1.11.0-cpu_py310h2272b30_0 requires python_abi 3.10.* *_cp310, but none of the providers can be installed\n",
      "   \n",
      "================================================== New error message ===================================================\n",
      "Error: Could not find any compatible versions for requested packages \u001b[31m\u001b[01mpytorch \u001b[0m, \u001b[31m\u001b[01mpython 2.7**\u001b[0m.\n",
      "\n",
      "The following packages conflict with one another\n",
      "├─ \u001b[32m\u001b[01mpytorch\u001b[0m is installable with the potential options\n",
      "│  ├─ \u001b[32m\u001b[01m\u001b[32m\u001b[01mpytorch [1.6.0|1.7.1|...|1.9.1]\u001b[0m\u001b[0m, which requires\n",
      "│  │  └─ \u001b[32m\u001b[01m\u001b[32m\u001b[01m\u001b[32m\u001b[01mpython_abi 3.6.* *_cp36m\u001b[0m\u001b[0m\u001b[0m, which can be installed;\n",
      "│  ├─ \u001b[32m\u001b[01m\u001b[32m\u001b[01mpytorch [1.6.0|1.7.1|...|1.12.1]\u001b[0m\u001b[0m, which requires\n",
      "│  │  └─ \u001b[32m\u001b[01m\u001b[32m\u001b[01m\u001b[32m\u001b[01mpython_abi 3.7.* *_cp37m\u001b[0m\u001b[0m\u001b[0m, which can be installed;\n",
      "│  ├─ \u001b[32m\u001b[01m\u001b[32m\u001b[01mpytorch [1.6.0|1.7.1|...|1.12.1]\u001b[0m\u001b[0m, which requires\n",
      "│  │  └─ \u001b[32m\u001b[01m\u001b[32m\u001b[01m\u001b[32m\u001b[01mpython_abi 3.8.* *_cp38\u001b[0m\u001b[0m\u001b[0m, which can be installed;\n",
      "│  ├─ \u001b[32m\u001b[01m\u001b[32m\u001b[01mpytorch [1.6.0|1.7.1|...|1.12.1]\u001b[0m\u001b[0m, which requires\n",
      "│  │  └─ \u001b[32m\u001b[01m\u001b[32m\u001b[01m\u001b[32m\u001b[01mpython_abi 3.9.* *_cp39\u001b[0m\u001b[0m\u001b[0m, which can be installed;\n",
      "│  ├─ \u001b[31m\u001b[01m\u001b[31m\u001b[01mpytorch [1.8.0|1.9.0|...|1.12.1]\u001b[0m\u001b[0m, which requires\n",
      "│  │  └─ \u001b[31m\u001b[01m\u001b[31m\u001b[01mcudatoolkit 11.0|11.0.*\u001b[0m\u001b[0m, which requires the missing package \u001b[31m\u001b[01m__cuda [>=11|>=11.0|...|>=11.6.0]\u001b[0m;\n",
      "│  ├─ \u001b[31m\u001b[01m\u001b[31m\u001b[01mpytorch [1.8.0|1.9.0|...|1.12.1]\u001b[0m\u001b[0m, which requires\n",
      "│  │  └─ \u001b[31m\u001b[01m\u001b[31m\u001b[01mcudatoolkit 11.1|11.1.*\u001b[0m\u001b[0m, which requires the missing package \u001b[31m\u001b[01m__cuda [>=11|>=11.0|...|>=11.6.0]\u001b[0m;\n",
      "│  ├─ \u001b[31m\u001b[01m\u001b[31m\u001b[01mpytorch [1.8.0|1.9.0|...|1.12.1]\u001b[0m\u001b[0m, which requires\n",
      "│  │  └─ \u001b[31m\u001b[01m\u001b[31m\u001b[01mcudatoolkit [>=11.2,<12|>=11.2,<12.0a0]\u001b[0m\u001b[0m, which requires the missing package \u001b[31m\u001b[01m__cuda [>=11|>=11.0|...|>=11.6.0]\u001b[0m;\n",
      "│  └─ \u001b[32m\u001b[01m\u001b[32m\u001b[01mpytorch [1.11.0|1.12.0|1.12.1]\u001b[0m\u001b[0m, which requires\n",
      "│     └─ \u001b[32m\u001b[01m\u001b[32m\u001b[01m\u001b[32m\u001b[01mpython_abi 3.10.* *_cp310\u001b[0m\u001b[0m\u001b[0m, which can be installed;\n",
      "└─ \u001b[31m\u001b[01m\u001b[31m\u001b[01mpython 2.7**\u001b[0m\u001b[0m is uninstallable because  it requires\n",
      "   └─ \u001b[31m\u001b[01m\u001b[31m\u001b[01mpython_abi [* *_cp27mu|2.7.* *_cp27mu]\u001b[0m\u001b[0m, which conflicts with any installable versions of \u001b[31m\u001b[01mpython_abi\u001b[0m.\n"
     ]
    }
   ],
   "source": [
    "detail_problem(mer.problems.create_pytorch_cuda)"
   ]
  },
  {
   "cell_type": "markdown",
   "id": "1ec83bcf-e1b5-427a-b0f1-3f769bd9da92",
   "metadata": {},
   "source": [
    "## CudaToolkit"
   ]
  },
  {
   "cell_type": "code",
   "execution_count": 9,
   "id": "5573caac-6d17-4b48-a949-42e0e33258cc",
   "metadata": {},
   "outputs": [
    {
     "name": "stdout",
     "output_type": "stream",
     "text": [
      "conda-forge/linux-64                                        Using cache\n",
      "conda-forge/noarch                                          Using cache\n",
      "================================================== Old error message ===================================================\n",
      "Mamba failed to solve. The reported errors are:\n",
      "   Encountered problems while solving:\n",
      "     - nothing provides requested torchvision 0.9 *py37_cu111*\n",
      "     - package cudnn-8.0.5.39-hc0a50b0_1 requires cudatoolkit 10.1|10.1.*, but none of the providers can be installed\n",
      "   \n",
      "================================================== New error message ===================================================\n",
      "Error: Could not find any compatible versions for requested packages \u001b[31m\u001b[01mcudatoolkit 11.1**\u001b[0m, \u001b[31m\u001b[01mcudnn 8.0**\u001b[0m.\n",
      "\n",
      "The following packages conflict with one another\n",
      "├─ \u001b[32m\u001b[01mcudnn 8.0**\u001b[0m is installable with the potential options\n",
      "│  ├─ \u001b[32m\u001b[01m\u001b[32m\u001b[01mcudnn 8.0.5.39\u001b[0m\u001b[0m, which requires\n",
      "│  │  └─ \u001b[32m\u001b[01m\u001b[32m\u001b[01m\u001b[32m\u001b[01mcudatoolkit 10.2|10.2.*\u001b[0m\u001b[0m\u001b[0m, which can be installed;\n",
      "│  ├─ \u001b[32m\u001b[01m\u001b[32m\u001b[01mcudnn 8.0.5.39\u001b[0m\u001b[0m, which requires\n",
      "│  │  └─ \u001b[32m\u001b[01m\u001b[32m\u001b[01m\u001b[32m\u001b[01mcudatoolkit 11.0|11.0.*\u001b[0m\u001b[0m\u001b[0m, which can be installed;\n",
      "│  └─ \u001b[32m\u001b[01m\u001b[32m\u001b[01mcudnn 8.0.5.39\u001b[0m\u001b[0m, which requires\n",
      "│     └─ \u001b[32m\u001b[01m\u001b[32m\u001b[01m\u001b[32m\u001b[01mcudatoolkit 10.1|10.1.*\u001b[0m\u001b[0m\u001b[0m, which can be installed;\n",
      "└─ \u001b[31m\u001b[01m\u001b[31m\u001b[01mcudatoolkit 11.1**\u001b[0m\u001b[0m is uninstallable because it conflicts with any installable versions of \u001b[31m\u001b[01mcudatoolkit\u001b[0m.\n"
     ]
    }
   ],
   "source": [
    "detail_problem(mer.problems.create_cudatoolkit)"
   ]
  },
  {
   "cell_type": "markdown",
   "id": "3bf81dab-ed4b-4997-8ea1-64467b9bdcfd",
   "metadata": {},
   "source": [
    "## Jpeg9b"
   ]
  },
  {
   "cell_type": "code",
   "execution_count": 10,
   "id": "26f08c4e-000c-4d36-9036-b0cd6d01b1f2",
   "metadata": {},
   "outputs": [
    {
     "name": "stdout",
     "output_type": "stream",
     "text": [
      "conda-forge/linux-64                                        Using cache\n",
      "conda-forge/noarch                                          Using cache\n",
      "================================================== Old error message ===================================================\n",
      "Mamba failed to solve. The reported errors are:\n",
      "   Encountered problems while solving:\n",
      "     - nothing provides requested jpeg 9b**\n",
      "   \n",
      "================================================== New error message ===================================================\n",
      "Error: The environment could not be satisfied because it requires the missing package \u001b[31m\u001b[01mjpeg 9b**\u001b[0m.\n"
     ]
    }
   ],
   "source": [
    "detail_problem(mer.problems.create_jpeg9b)"
   ]
  },
  {
   "cell_type": "markdown",
   "id": "70f7de39-669b-490c-85ea-581622f9a76f",
   "metadata": {},
   "source": [
    "# SCIP"
   ]
  },
  {
   "cell_type": "code",
   "execution_count": 11,
   "id": "49fb7ed0-fe27-42db-97fb-032b0ca2a4ea",
   "metadata": {},
   "outputs": [
    {
     "name": "stdout",
     "output_type": "stream",
     "text": [
      "conda-forge/linux-64                                        Using cache\n",
      "conda-forge/noarch                                          Using cache\n",
      "================================================== Old error message ===================================================\n",
      "Mamba failed to solve. The reported errors are:\n",
      "   Encountered problems while solving:\n",
      "     - package pyscipopt-3.0.4b-py36ha03b18c_1 requires scip >=7.0.2,<8.0a0, but none of the providers can be installed\n",
      "   \n",
      "================================================== New error message ===================================================\n",
      "Error: Could not find any compatible versions for requested packages \u001b[31m\u001b[01mscip 8.*\u001b[0m, \u001b[31m\u001b[01mpyscipopt <4.0\u001b[0m.\n",
      "\n",
      "The following packages conflict with one another\n",
      "├─ \u001b[32m\u001b[01mpyscipopt <4.0\u001b[0m is installable with the potential options\n",
      "│  ├─ \u001b[32m\u001b[01m\u001b[32m\u001b[01mpyscipopt [3.0.4b|3.1.0|...|3.2.0]\u001b[0m\u001b[0m, which requires\n",
      "│  │  └─ \u001b[32m\u001b[01m\u001b[32m\u001b[01m\u001b[32m\u001b[01mscip >=7.0.2,<8.0a0\u001b[0m\u001b[0m\u001b[0m, which can be installed;\n",
      "│  └─ \u001b[32m\u001b[01m\u001b[32m\u001b[01mpyscipopt [3.2.1|3.2.2|...|3.5.0]\u001b[0m\u001b[0m, which requires\n",
      "│     └─ \u001b[32m\u001b[01m\u001b[32m\u001b[01m\u001b[32m\u001b[01mscip >=7.0.3,<8.0a0\u001b[0m\u001b[0m\u001b[0m, which can be installed;\n",
      "└─ \u001b[31m\u001b[01m\u001b[31m\u001b[01mscip 8.*\u001b[0m\u001b[0m is uninstallable because it conflicts with any installable versions of \u001b[31m\u001b[01mscip\u001b[0m.\n"
     ]
    }
   ],
   "source": [
    "detail_problem(mer.problems.create_scip)"
   ]
  },
  {
   "cell_type": "markdown",
   "id": "46cf316c-8b03-49d5-aff3-c033b35ea2ea",
   "metadata": {},
   "source": [
    "# JupyterLab OpenSSL"
   ]
  },
  {
   "cell_type": "code",
   "execution_count": 12,
   "id": "0a65fb34-95d1-4071-aebd-b2d3adff54da",
   "metadata": {},
   "outputs": [
    {
     "name": "stdout",
     "output_type": "stream",
     "text": [
      "conda-forge/linux-64                                        Using cache\n",
      "conda-forge/noarch                                          Using cache\n",
      "================================================== Old error message ===================================================\n",
      "Mamba failed to solve. The reported errors are:\n",
      "   Encountered problems while solving:\n",
      "     - package jupyterlab-3.0.1-pyhd8ed1ab_0 requires jupyterlab_server >=2.0.0,<3.0.0, but none of the providers can be installed\n",
      "   \n",
      "================================================== New error message ===================================================\n",
      "Error: Could not find any compatible versions for requested packages \u001b[31m\u001b[01mjupyterlab >3.0\u001b[0m, \u001b[31m\u001b[01mopenssl 3.0.0**\u001b[0m.\n",
      "\n",
      "The following packages conflict with one another\n",
      "├─ \u001b[32m\u001b[01m\u001b[32m\u001b[01m\u001b[32m\u001b[01mopenssl 3.0.0**\u001b[0m\u001b[0m\u001b[0m is requested and can be installed;\n",
      "└─ \u001b[31m\u001b[01m\u001b[31m\u001b[01mjupyterlab >3.0\u001b[0m\u001b[0m is uninstallable because  it requires\n",
      "   ├─ \u001b[31m\u001b[01m\u001b[31m\u001b[01mjupyterlab_server [>=2,<3|>=2.0.0,<3.0.0]\u001b[0m\u001b[0m, which requires\n",
      "   │  └─ \u001b[31m\u001b[01mrequests\u001b[0m with no viable options\n",
      "   │     ├─ \u001b[31m\u001b[01m\u001b[31m\u001b[01mrequests [2.9.2|2.10.0|...|2.19.1]\u001b[0m\u001b[0m, which requires\n",
      "   │     │  ├─ \u001b[31m\u001b[01m\u001b[31m\u001b[01mpython 3.4*\u001b[0m\u001b[0m, which requires\n",
      "   │     │  │  └─ \u001b[31m\u001b[01m\u001b[31m\u001b[01mopenssl 1.0.*\u001b[0m\u001b[0m, which conflicts with any installable versions of \u001b[31m\u001b[01mopenssl\u001b[0m;\n",
      "   │     │  └─ \u001b[31m\u001b[01mpython [3.5*|>=3.5,<3.6.0a0]\u001b[0m with no viable options\n",
      "   │     │     ├─ \u001b[31m\u001b[01m\u001b[31m\u001b[01mpython [3.5.1|3.5.2|...|3.5.5]\u001b[0m\u001b[0m, which requires\n",
      "   │     │     │  └─ \u001b[31m\u001b[01m\u001b[31m\u001b[01mopenssl [1.0*|1.0.*]\u001b[0m\u001b[0m, which conflicts with any installable versions of \u001b[31m\u001b[01mopenssl\u001b[0m;\n",
      "   │     │     └─ \u001b[31m\u001b[01m\u001b[31m\u001b[01mpython 3.5.5\u001b[0m\u001b[0m, which requires\n",
      "   │     │        └─ \u001b[31m\u001b[01m\u001b[31m\u001b[01mopenssl >=1.0.2o,<1.0.3a\u001b[0m\u001b[0m, which conflicts with any installable versions of \u001b[31m\u001b[01mopenssl\u001b[0m;\n",
      "   │     ├─ \u001b[31m\u001b[01m\u001b[31m\u001b[01mrequests [2.9.2|2.10.0|...|2.23.0]\u001b[0m\u001b[0m, which requires\n",
      "   │     │  ├─ \u001b[31m\u001b[01mpython [2.7*|>=2.7,<2.8.0a0]\u001b[0m with no viable options\n",
      "   │     │  │  ├─ \u001b[31m\u001b[01m\u001b[31m\u001b[01mpython [2.7.12|2.7.13|2.7.14|2.7.15]\u001b[0m\u001b[0m, which requires\n",
      "   │     │  │  │  └─ \u001b[31m\u001b[01m\u001b[31m\u001b[01mopenssl 1.0.*\u001b[0m\u001b[0m, which conflicts with any installable versions of \u001b[31m\u001b[01mopenssl\u001b[0m;\n",
      "   │     │  │  ├─ \u001b[31m\u001b[01m\u001b[31m\u001b[01mpython 2.7.15\u001b[0m\u001b[0m, which requires\n",
      "   │     │  │  │  └─ \u001b[31m\u001b[01m\u001b[31m\u001b[01mopenssl >=1.0.2p,<1.0.3a\u001b[0m\u001b[0m, which conflicts with any installable versions of \u001b[31m\u001b[01mopenssl\u001b[0m;\n",
      "   │     │  │  ├─ \u001b[31m\u001b[01m\u001b[31m\u001b[01mpython 2.7.15\u001b[0m\u001b[0m, which requires\n",
      "   │     │  │  │  └─ \u001b[31m\u001b[01m\u001b[31m\u001b[01mopenssl >=1.1.1a,<1.1.2a\u001b[0m\u001b[0m, which conflicts with any installable versions of \u001b[31m\u001b[01mopenssl\u001b[0m;\n",
      "   │     │  │  └─ \u001b[31m\u001b[01m\u001b[31m\u001b[01mpython 2.7.15\u001b[0m\u001b[0m, which requires\n",
      "   │     │  │     └─ \u001b[31m\u001b[01m\u001b[31m\u001b[01mopenssl >=1.0.2o,<1.0.3a\u001b[0m\u001b[0m, which conflicts with any installable versions of \u001b[31m\u001b[01mopenssl\u001b[0m;\n",
      "   │     │  ├─ \u001b[31m\u001b[01mpython [3.6*|>=3.6,<3.7.0a0]\u001b[0m with no viable options\n",
      "   │     │  │  ├─ \u001b[31m\u001b[01m\u001b[31m\u001b[01mpython [3.6.0|3.6.1|...|3.6.5]\u001b[0m\u001b[0m, which requires\n",
      "   │     │  │  │  └─ \u001b[31m\u001b[01m\u001b[31m\u001b[01mopenssl 1.0.*\u001b[0m\u001b[0m, which conflicts with any installable versions of \u001b[31m\u001b[01mopenssl\u001b[0m;\n",
      "   │     │  │  ├─ \u001b[31m\u001b[01m\u001b[31m\u001b[01mpython 3.6.6\u001b[0m\u001b[0m, which requires\n",
      "   │     │  │  │  └─ \u001b[31m\u001b[01m\u001b[31m\u001b[01mopenssl >=1.0.2o,<1.0.3a\u001b[0m\u001b[0m, which conflicts with any installable versions of \u001b[31m\u001b[01mopenssl\u001b[0m;\n",
      "   │     │  │  ├─ \u001b[31m\u001b[01m\u001b[31m\u001b[01mpython [3.6.6|3.6.7]\u001b[0m\u001b[0m, which requires\n",
      "   │     │  │  │  └─ \u001b[31m\u001b[01m\u001b[31m\u001b[01mopenssl >=1.0.2p,<1.0.3a\u001b[0m\u001b[0m, which conflicts with any installable versions of \u001b[31m\u001b[01mopenssl\u001b[0m;\n",
      "   │     │  │  ├─ \u001b[31m\u001b[01m\u001b[31m\u001b[01mpython [3.6.7|3.6.9]\u001b[0m\u001b[0m, which requires\n",
      "   │     │  │  │  ├─ \u001b[31m\u001b[01m\u001b[31m\u001b[01mopenssl >=1.1.1a,<1.1.2a\u001b[0m\u001b[0m, which conflicts with any installable versions of \u001b[31m\u001b[01mopenssl\u001b[0m;\n",
      "   │     │  │  │  └─ \u001b[31m\u001b[01mpypy3 .6 7.3.0.*\u001b[0m with no viable options\n",
      "   │     │  │  │     ├─ \u001b[31m\u001b[01m\u001b[31m\u001b[01mpypy3.6 7.3.0\u001b[0m\u001b[0m, which requires\n",
      "   │     │  │  │     │  └─ \u001b[31m\u001b[01m\u001b[31m\u001b[01mopenssl >=1.1.1a,<1.1.2a\u001b[0m\u001b[0m, which conflicts with any installable versions of \u001b[31m\u001b[01mopenssl\u001b[0m;\n",
      "   │     │  │  │     ├─ \u001b[31m\u001b[01m\u001b[31m\u001b[01mpypy3.6 7.3.0\u001b[0m\u001b[0m, which requires\n",
      "   │     │  │  │     │  └─ \u001b[31m\u001b[01m\u001b[31m\u001b[01mopenssl >=1.1.1d,<1.1.2a\u001b[0m\u001b[0m, which conflicts with any installable versions of \u001b[31m\u001b[01mopenssl\u001b[0m;\n",
      "   │     │  │  │     └─ \u001b[31m\u001b[01m\u001b[31m\u001b[01mpypy3.6 7.3.0\u001b[0m\u001b[0m, which requires\n",
      "   │     │  │  │        └─ \u001b[31m\u001b[01m\u001b[31m\u001b[01mopenssl >=1.1.1e,<1.1.2a\u001b[0m\u001b[0m, which conflicts with any installable versions of \u001b[31m\u001b[01mopenssl\u001b[0m;\n",
      "   │     │  │  ├─ \u001b[31m\u001b[01m\u001b[31m\u001b[01mpython [3.6.9|3.6.10]\u001b[0m\u001b[0m, which requires\n",
      "   │     │  │  │  ├─ \u001b[31m\u001b[01m\u001b[31m\u001b[01mopenssl >=1.1.1f,<1.1.2a\u001b[0m\u001b[0m, which conflicts with any installable versions of \u001b[31m\u001b[01mopenssl\u001b[0m;\n",
      "   │     │  │  │  └─ \u001b[31m\u001b[01m\u001b[31m\u001b[01mpypy3 .6 7.3.1.*\u001b[0m\u001b[0m, which requires\n",
      "   │     │  │  │     └─ \u001b[31m\u001b[01m\u001b[31m\u001b[01mopenssl >=1.1.1f,<1.1.2a\u001b[0m\u001b[0m, which conflicts with any installable versions of \u001b[31m\u001b[01mopenssl\u001b[0m;\n",
      "   │     │  │  ├─ \u001b[31m\u001b[01m\u001b[31m\u001b[01mpython [3.6.9|3.6.10]\u001b[0m\u001b[0m, which requires\n",
      "   │     │  │  │  └─ \u001b[31m\u001b[01m\u001b[31m\u001b[01mopenssl >=1.1.1d,<1.1.2a\u001b[0m\u001b[0m, which conflicts with any installable versions of \u001b[31m\u001b[01mopenssl\u001b[0m;\n",
      "   │     │  │  ├─ \u001b[31m\u001b[01m\u001b[31m\u001b[01mpython [3.6.9|3.6.11|3.6.12]\u001b[0m\u001b[0m, which requires\n",
      "   │     │  │  │  ├─ \u001b[31m\u001b[01m\u001b[31m\u001b[01mopenssl >=1.1.1h,<1.1.2a\u001b[0m\u001b[0m, which conflicts with any installable versions of \u001b[31m\u001b[01mopenssl\u001b[0m;\n",
      "   │     │  │  │  └─ \u001b[31m\u001b[01m\u001b[31m\u001b[01mpypy3 .6 7.3.2.*\u001b[0m\u001b[0m, which requires\n",
      "   │     │  │  │     └─ \u001b[31m\u001b[01m\u001b[31m\u001b[01mopenssl >=1.1.1h,<1.1.2a\u001b[0m\u001b[0m, which conflicts with any installable versions of \u001b[31m\u001b[01mopenssl\u001b[0m;\n",
      "   │     │  │  ├─ \u001b[31m\u001b[01m\u001b[31m\u001b[01mpython [3.6.10|3.6.11]\u001b[0m\u001b[0m, which requires\n",
      "   │     │  │  │  └─ \u001b[31m\u001b[01m\u001b[31m\u001b[01mopenssl >=1.1.1g,<1.1.2a\u001b[0m\u001b[0m, which conflicts with any installable versions of \u001b[31m\u001b[01mopenssl\u001b[0m;\n",
      "   │     │  │  ├─ \u001b[31m\u001b[01m\u001b[31m\u001b[01mpython 3.6.12\u001b[0m\u001b[0m, which requires\n",
      "   │     │  │  │  └─ \u001b[31m\u001b[01m\u001b[31m\u001b[01mpypy3 .6 7.3.3.*\u001b[0m\u001b[0m, which requires\n",
      "   │     │  │  │     └─ \u001b[31m\u001b[01m\u001b[31m\u001b[01mopenssl >=1.1.1i,<1.1.2a\u001b[0m\u001b[0m, which conflicts with any installable versions of \u001b[31m\u001b[01mopenssl\u001b[0m;\n",
      "   │     │  │  ├─ \u001b[31m\u001b[01m\u001b[31m\u001b[01mpython 3.6.13\u001b[0m\u001b[0m, which requires\n",
      "   │     │  │  │  └─ \u001b[31m\u001b[01m\u001b[31m\u001b[01mopenssl >=1.1.1j,<1.1.2a\u001b[0m\u001b[0m, which conflicts with any installable versions of \u001b[31m\u001b[01mopenssl\u001b[0m;\n",
      "   │     │  │  └─ \u001b[31m\u001b[01m\u001b[31m\u001b[01mpython [3.6.13|3.6.15]\u001b[0m\u001b[0m, which requires\n",
      "   │     │  │     └─ \u001b[31m\u001b[01m\u001b[31m\u001b[01mopenssl >=1.1.1l,<1.1.2a\u001b[0m\u001b[0m, which conflicts with any installable versions of \u001b[31m\u001b[01mopenssl\u001b[0m;\n",
      "   │     │  └─ \u001b[31m\u001b[01m\u001b[31m\u001b[01mpython 3.6*\u001b[0m\u001b[0m, which requires\n",
      "   │     │     └─ \u001b[31m\u001b[01m\u001b[31m\u001b[01mopenssl 1.0.*\u001b[0m\u001b[0m, which conflicts with any installable versions of \u001b[31m\u001b[01mopenssl\u001b[0m;\n",
      "   │     └─ \u001b[31m\u001b[01m\u001b[31m\u001b[01mrequests [2.19.1|2.20.0|...|2.28.1]\u001b[0m\u001b[0m, which requires\n",
      "   │        ├─ \u001b[31m\u001b[01murllib3 [>=1.21.1,<1.24|>=1.21.1,<1.25|>=1.21.1,<1.26,!=1.25.0,!=1.25.1|>=1.21.1,<1.27]\u001b[0m with no viable options\n",
      "   │        │  ├─ \u001b[31m\u001b[01m\u001b[31m\u001b[01murllib3 [1.21.1|1.22|1.23]\u001b[0m\u001b[0m, which requires\n",
      "   │        │  │  ├─ \u001b[31m\u001b[01m\u001b[31m\u001b[01mpython [2.7*|>=2.7,<2.8.0a0]\u001b[0m\u001b[0m, which cannot be installed (as previously explained);\n",
      "   │        │  │  ├─ \u001b[31m\u001b[01m\u001b[31m\u001b[01mpython [3.6*|>=3.6,<3.7.0a0]\u001b[0m\u001b[0m, which cannot be installed (as previously explained);\n",
      "   │        │  │  └─ \u001b[31m\u001b[01m\u001b[31m\u001b[01mpython 3.6*\u001b[0m\u001b[0m, which cannot be installed (as previously explained);\n",
      "   │        │  ├─ \u001b[31m\u001b[01m\u001b[31m\u001b[01murllib3 [1.21.1|1.22|1.23]\u001b[0m\u001b[0m, which requires\n",
      "   │        │  │  └─ \u001b[31m\u001b[01m\u001b[31m\u001b[01mpython [3.5*|>=3.5,<3.6.0a0]\u001b[0m\u001b[0m, which cannot be installed (as previously explained);\n",
      "   │        │  └─ \u001b[31m\u001b[01m\u001b[31m\u001b[01murllib3 1.23\u001b[0m\u001b[0m, which requires\n",
      "   │        │     └─ \u001b[31m\u001b[01mcryptography >=1.3.4\u001b[0m with no viable options\n",
      "   │        │        ├─ \u001b[31m\u001b[01m\u001b[31m\u001b[01mcryptography [1.9|2.0.3|2.1.4|2.2.1]\u001b[0m\u001b[0m, which requires\n",
      "   │        │        │  └─ \u001b[31m\u001b[01m\u001b[31m\u001b[01mopenssl 1.0.*\u001b[0m\u001b[0m, which conflicts with any installable versions of \u001b[31m\u001b[01mopenssl\u001b[0m;\n",
      "   │        │        ├─ \u001b[31m\u001b[01m\u001b[31m\u001b[01mcryptography [2.2.1|2.3|2.3.1]\u001b[0m\u001b[0m, which requires\n",
      "   │        │        │  └─ \u001b[31m\u001b[01m\u001b[31m\u001b[01mopenssl >=1.0.2o,<1.0.3a\u001b[0m\u001b[0m, which conflicts with any installable versions of \u001b[31m\u001b[01mopenssl\u001b[0m;\n",
      "   │        │        ├─ \u001b[31m\u001b[01m\u001b[31m\u001b[01mcryptography [2.3.1|2.5]\u001b[0m\u001b[0m, which requires\n",
      "   │        │        │  └─ \u001b[31m\u001b[01m\u001b[31m\u001b[01mopenssl >=1.0.2p,<1.0.3a\u001b[0m\u001b[0m, which conflicts with any installable versions of \u001b[31m\u001b[01mopenssl\u001b[0m;\n",
      "   │        │        ├─ \u001b[31m\u001b[01m\u001b[31m\u001b[01mcryptography [2.5|2.6.1|2.7|2.8]\u001b[0m\u001b[0m, which requires\n",
      "   │        │        │  └─ \u001b[31m\u001b[01m\u001b[31m\u001b[01mopenssl >=1.1.1a,<1.1.2a\u001b[0m\u001b[0m, which conflicts with any installable versions of \u001b[31m\u001b[01mopenssl\u001b[0m;\n",
      "   │        │        ├─ \u001b[31m\u001b[01m\u001b[31m\u001b[01mcryptography 2.8\u001b[0m\u001b[0m, which requires\n",
      "   │        │        │  └─ \u001b[31m\u001b[01m\u001b[31m\u001b[01mopenssl >=1.1.1d,<1.1.2a\u001b[0m\u001b[0m, which conflicts with any installable versions of \u001b[31m\u001b[01mopenssl\u001b[0m;\n",
      "   │        │        ├─ \u001b[31m\u001b[01m\u001b[31m\u001b[01mcryptography [2.9.2|3.0|3.1]\u001b[0m\u001b[0m, which requires\n",
      "   │        │        │  └─ \u001b[31m\u001b[01m\u001b[31m\u001b[01mopenssl >=1.1.1g,<1.1.2a\u001b[0m\u001b[0m, which conflicts with any installable versions of \u001b[31m\u001b[01mopenssl\u001b[0m;\n",
      "   │        │        ├─ \u001b[31m\u001b[01m\u001b[31m\u001b[01mcryptography [3.1.1|3.2|...|3.3.1]\u001b[0m\u001b[0m, which requires\n",
      "   │        │        │  └─ \u001b[31m\u001b[01m\u001b[31m\u001b[01mopenssl >=1.1.1h,<1.1.2a\u001b[0m\u001b[0m, which conflicts with any installable versions of \u001b[31m\u001b[01mopenssl\u001b[0m;\n",
      "   │        │        ├─ \u001b[31m\u001b[01m\u001b[31m\u001b[01mcryptography [3.3.1|3.4.4]\u001b[0m\u001b[0m, which requires\n",
      "   │        │        │  └─ \u001b[31m\u001b[01m\u001b[31m\u001b[01mopenssl >=1.1.1i,<1.1.2a\u001b[0m\u001b[0m, which conflicts with any installable versions of \u001b[31m\u001b[01mopenssl\u001b[0m;\n",
      "   │        │        ├─ \u001b[31m\u001b[01m\u001b[31m\u001b[01mcryptography [3.4.5|3.4.6]\u001b[0m\u001b[0m, which requires\n",
      "   │        │        │  └─ \u001b[31m\u001b[01m\u001b[31m\u001b[01mopenssl >=1.1.1j,<1.1.2a\u001b[0m\u001b[0m, which conflicts with any installable versions of \u001b[31m\u001b[01mopenssl\u001b[0m;\n",
      "   │        │        ├─ \u001b[31m\u001b[01m\u001b[31m\u001b[01mcryptography 3.4.7\u001b[0m\u001b[0m, which requires\n",
      "   │        │        │  └─ \u001b[31m\u001b[01m\u001b[31m\u001b[01mopenssl >=1.1.1k,<1.1.2a\u001b[0m\u001b[0m, which conflicts with any installable versions of \u001b[31m\u001b[01mopenssl\u001b[0m;\n",
      "   │        │        ├─ \u001b[31m\u001b[01m\u001b[31m\u001b[01mcryptography [3.4.8|35.0.0|...|36.0.2]\u001b[0m\u001b[0m, which requires\n",
      "   │        │        │  └─ \u001b[31m\u001b[01m\u001b[31m\u001b[01mopenssl >=1.1.1l,<1.1.2a\u001b[0m\u001b[0m, which conflicts with any installable versions of \u001b[31m\u001b[01mopenssl\u001b[0m;\n",
      "   │        │        ├─ \u001b[31m\u001b[01m\u001b[31m\u001b[01mcryptography 36.0.2\u001b[0m\u001b[0m, which requires\n",
      "   │        │        │  └─ \u001b[31m\u001b[01m\u001b[31m\u001b[01mopenssl >=1.1.1n,<1.1.2a\u001b[0m\u001b[0m, which conflicts with any installable versions of \u001b[31m\u001b[01mopenssl\u001b[0m;\n",
      "   │        │        ├─ \u001b[31m\u001b[01m\u001b[31m\u001b[01mcryptography 37.0.2\u001b[0m\u001b[0m, which requires\n",
      "   │        │        │  └─ \u001b[31m\u001b[01m\u001b[31m\u001b[01mopenssl >=1.1.1o,<1.1.2a\u001b[0m\u001b[0m, which conflicts with any installable versions of \u001b[31m\u001b[01mopenssl\u001b[0m;\n",
      "   │        │        ├─ \u001b[31m\u001b[01m\u001b[31m\u001b[01mcryptography [37.0.4|38.0.1|38.0.2]\u001b[0m\u001b[0m, which requires\n",
      "   │        │        │  └─ \u001b[31m\u001b[01m\u001b[31m\u001b[01mopenssl >=1.1.1q,<1.1.2a\u001b[0m\u001b[0m, which conflicts with any installable versions of \u001b[31m\u001b[01mopenssl\u001b[0m;\n",
      "   │        │        └─ \u001b[31m\u001b[01m\u001b[31m\u001b[01mcryptography 38.0.2\u001b[0m\u001b[0m, which requires\n",
      "   │        │           └─ \u001b[31m\u001b[01m\u001b[31m\u001b[01mopenssl >=3.0.5,<4.0a0\u001b[0m\u001b[0m, which conflicts with any installable versions of \u001b[31m\u001b[01mopenssl\u001b[0m;\n",
      "   │        ├─ \u001b[31m\u001b[01murllib3 [>=1.21.1,<1.25|>=1.21.1,<1.26,!=1.25.0,!=1.25.1|>=1.21.1,<1.27]\u001b[0m with no viable options\n",
      "   │        │  ├─ \u001b[31m\u001b[01m\u001b[31m\u001b[01murllib3 [1.24|1.24.1|1.24.2|1.24.3]\u001b[0m\u001b[0m, which requires\n",
      "   │        │  │  ├─ \u001b[31m\u001b[01m\u001b[31m\u001b[01mpython >=2.7,<2.8.0a0\u001b[0m\u001b[0m, which cannot be installed (as previously explained);\n",
      "   │        │  │  └─ \u001b[31m\u001b[01m\u001b[31m\u001b[01mpython >=3.6,<3.7.0a0\u001b[0m\u001b[0m, which cannot be installed (as previously explained);\n",
      "   │        │  └─ \u001b[31m\u001b[01m\u001b[31m\u001b[01murllib3 [1.24|1.24.1|1.24.2|1.24.3]\u001b[0m\u001b[0m, which requires\n",
      "   │        │     └─ \u001b[31m\u001b[01m\u001b[31m\u001b[01mcryptography >=1.3.4\u001b[0m\u001b[0m, which cannot be installed (as previously explained);\n",
      "   │        ├─ \u001b[31m\u001b[01murllib3 [>=1.21.1,<1.26,!=1.25.0,!=1.25.1|>=1.21.1,<1.27]\u001b[0m with no viable options\n",
      "   │        │  ├─ \u001b[31m\u001b[01m\u001b[31m\u001b[01murllib3 [1.25.2|1.25.3|...|1.25.8]\u001b[0m\u001b[0m, which requires\n",
      "   │        │  │  ├─ \u001b[31m\u001b[01m\u001b[31m\u001b[01mpython >=2.7,<2.8.0a0\u001b[0m\u001b[0m, which cannot be installed (as previously explained);\n",
      "   │        │  │  └─ \u001b[31m\u001b[01m\u001b[31m\u001b[01mpython >=3.6,<3.7.0a0\u001b[0m\u001b[0m, which cannot be installed (as previously explained);\n",
      "   │        │  └─ \u001b[31m\u001b[01m\u001b[31m\u001b[01murllib3 [1.25.2|1.25.3|...|1.25.11]\u001b[0m\u001b[0m, which requires\n",
      "   │        │     └─ \u001b[31m\u001b[01m\u001b[31m\u001b[01mcryptography >=1.3.4\u001b[0m\u001b[0m, which cannot be installed (as previously explained);\n",
      "   │        └─ \u001b[31m\u001b[01murllib3 >=1.21.1,<1.27\u001b[0m with no viable options\n",
      "   │           ├─ \u001b[31m\u001b[01m\u001b[31m\u001b[01murllib3 [1.25|1.25.1]\u001b[0m\u001b[0m, which requires\n",
      "   │           │  ├─ \u001b[31m\u001b[01m\u001b[31m\u001b[01mpython >=2.7,<2.8.0a0\u001b[0m\u001b[0m, which cannot be installed (as previously explained);\n",
      "   │           │  └─ \u001b[31m\u001b[01m\u001b[31m\u001b[01mpython >=3.6,<3.7.0a0\u001b[0m\u001b[0m, which cannot be installed (as previously explained);\n",
      "   │           └─ \u001b[31m\u001b[01m\u001b[31m\u001b[01murllib3 [1.25|1.25.1|...|1.26.11]\u001b[0m\u001b[0m, which requires\n",
      "   │              └─ \u001b[31m\u001b[01m\u001b[31m\u001b[01mcryptography >=1.3.4\u001b[0m\u001b[0m, which cannot be installed (as previously explained);\n",
      "   ├─ \u001b[31m\u001b[01m\u001b[31m\u001b[01mjupyterlab_server [>=2,<3|>=2.0.0,<3.0.0|>=2.10,<3|>=2.3,<3]\u001b[0m\u001b[0m, which requires\n",
      "   │  └─ \u001b[31m\u001b[01m\u001b[31m\u001b[01mrequests\u001b[0m\u001b[0m, which cannot be installed (as previously explained);\n",
      "   └─ \u001b[31m\u001b[01m\u001b[31m\u001b[01mjupyterlab_server [>=2,<3|>=2.0.0,<3.0.0|>=2.3,<3]\u001b[0m\u001b[0m, which requires\n",
      "      └─ \u001b[31m\u001b[01m\u001b[31m\u001b[01mrequests\u001b[0m\u001b[0m, which cannot be installed (as previously explained).\n"
     ]
    }
   ],
   "source": [
    "detail_problem(mer.problems.create_jupyterlab)"
   ]
  },
  {
   "cell_type": "code",
   "execution_count": null,
   "id": "f8289254-b5b9-4bac-b775-9c677e19001f",
   "metadata": {},
   "outputs": [],
   "source": []
  }
 ],
 "metadata": {
  "kernelspec": {
   "display_name": "Python 3 (ipykernel)",
   "language": "python",
   "name": "python3"
  },
  "language_info": {
   "codemirror_mode": {
    "name": "ipython",
    "version": 3
   },
   "file_extension": ".py",
   "mimetype": "text/x-python",
   "name": "python",
   "nbconvert_exporter": "python",
   "pygments_lexer": "ipython3",
   "version": "3.10.6"
  }
 },
 "nbformat": 4,
 "nbformat_minor": 5
}
